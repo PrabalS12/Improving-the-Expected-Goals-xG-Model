{
 "cells": [
  {
   "cell_type": "code",
   "execution_count": 1,
   "metadata": {
    "colab": {
     "base_uri": "https://localhost:8080/"
    },
    "id": "gJPhCjJyrbg3",
    "outputId": "fce83813-ab79-4922-c2d0-30f6cbc1396b"
   },
   "outputs": [
    {
     "name": "stdout",
     "output_type": "stream",
     "text": [
      "Looking in indexes: https://pypi.org/simple, https://us-python.pkg.dev/colab-wheels/public/simple/\n",
      "Requirement already satisfied: xgboost in /usr/local/lib/python3.10/dist-packages (1.7.5)\n",
      "Requirement already satisfied: numpy in /usr/local/lib/python3.10/dist-packages (from xgboost) (1.22.4)\n",
      "Requirement already satisfied: scipy in /usr/local/lib/python3.10/dist-packages (from xgboost) (1.10.1)\n",
      "Looking in indexes: https://pypi.org/simple, https://us-python.pkg.dev/colab-wheels/public/simple/\n",
      "Requirement already satisfied: lightgbm in /usr/local/lib/python3.10/dist-packages (3.3.5)\n",
      "Requirement already satisfied: scipy in /usr/local/lib/python3.10/dist-packages (from lightgbm) (1.10.1)\n",
      "Requirement already satisfied: numpy in /usr/local/lib/python3.10/dist-packages (from lightgbm) (1.22.4)\n",
      "Requirement already satisfied: scikit-learn!=0.22.0 in /usr/local/lib/python3.10/dist-packages (from lightgbm) (1.2.2)\n",
      "Requirement already satisfied: wheel in /usr/local/lib/python3.10/dist-packages (from lightgbm) (0.40.0)\n",
      "Requirement already satisfied: joblib>=1.1.1 in /usr/local/lib/python3.10/dist-packages (from scikit-learn!=0.22.0->lightgbm) (1.2.0)\n",
      "Requirement already satisfied: threadpoolctl>=2.0.0 in /usr/local/lib/python3.10/dist-packages (from scikit-learn!=0.22.0->lightgbm) (3.1.0)\n",
      "Looking in indexes: https://pypi.org/simple, https://us-python.pkg.dev/colab-wheels/public/simple/\n",
      "Collecting catboost\n",
      "  Downloading catboost-1.2-cp310-cp310-manylinux2014_x86_64.whl (98.6 MB)\n",
      "\u001b[2K     \u001b[90m━━━━━━━━━━━━━━━━━━━━━━━━━━━━━━━━━━━━━━━━\u001b[0m \u001b[32m98.6/98.6 MB\u001b[0m \u001b[31m8.2 MB/s\u001b[0m eta \u001b[36m0:00:00\u001b[0m\n",
      "\u001b[?25hRequirement already satisfied: plotly in /usr/local/lib/python3.10/dist-packages (from catboost) (5.13.1)\n",
      "Requirement already satisfied: graphviz in /usr/local/lib/python3.10/dist-packages (from catboost) (0.20.1)\n",
      "Requirement already satisfied: matplotlib in /usr/local/lib/python3.10/dist-packages (from catboost) (3.7.1)\n",
      "Requirement already satisfied: six in /usr/local/lib/python3.10/dist-packages (from catboost) (1.16.0)\n",
      "Requirement already satisfied: scipy in /usr/local/lib/python3.10/dist-packages (from catboost) (1.10.1)\n",
      "Requirement already satisfied: pandas>=0.24 in /usr/local/lib/python3.10/dist-packages (from catboost) (1.5.3)\n",
      "Requirement already satisfied: numpy>=1.16.0 in /usr/local/lib/python3.10/dist-packages (from catboost) (1.22.4)\n",
      "Requirement already satisfied: python-dateutil>=2.8.1 in /usr/local/lib/python3.10/dist-packages (from pandas>=0.24->catboost) (2.8.2)\n",
      "Requirement already satisfied: pytz>=2020.1 in /usr/local/lib/python3.10/dist-packages (from pandas>=0.24->catboost) (2022.7.1)\n",
      "Requirement already satisfied: contourpy>=1.0.1 in /usr/local/lib/python3.10/dist-packages (from matplotlib->catboost) (1.0.7)\n",
      "Requirement already satisfied: kiwisolver>=1.0.1 in /usr/local/lib/python3.10/dist-packages (from matplotlib->catboost) (1.4.4)\n",
      "Requirement already satisfied: packaging>=20.0 in /usr/local/lib/python3.10/dist-packages (from matplotlib->catboost) (23.1)\n",
      "Requirement already satisfied: pillow>=6.2.0 in /usr/local/lib/python3.10/dist-packages (from matplotlib->catboost) (8.4.0)\n",
      "Requirement already satisfied: fonttools>=4.22.0 in /usr/local/lib/python3.10/dist-packages (from matplotlib->catboost) (4.39.3)\n",
      "Requirement already satisfied: pyparsing>=2.3.1 in /usr/local/lib/python3.10/dist-packages (from matplotlib->catboost) (3.0.9)\n",
      "Requirement already satisfied: cycler>=0.10 in /usr/local/lib/python3.10/dist-packages (from matplotlib->catboost) (0.11.0)\n",
      "Requirement already satisfied: tenacity>=6.2.0 in /usr/local/lib/python3.10/dist-packages (from plotly->catboost) (8.2.2)\n",
      "Installing collected packages: catboost\n",
      "Successfully installed catboost-1.2\n"
     ]
    }
   ],
   "source": [
    "!pip install xgboost\n",
    "!pip install lightgbm\n",
    "!pip install catboost"
   ]
  },
  {
   "cell_type": "code",
   "execution_count": 1,
   "metadata": {
    "id": "HENT3VO3rlWV"
   },
   "outputs": [],
   "source": [
    "import os\n",
    "import pandas as pd\n",
    "import numpy as np\n",
    "from sklearn.model_selection import train_test_split\n",
    "from sklearn.preprocessing import OneHotEncoder, LabelEncoder\n",
    "from sklearn.model_selection import GridSearchCV, cross_validate, RandomizedSearchCV\n",
    "from sklearn.compose import ColumnTransformer\n",
    "from sklearn.preprocessing import FunctionTransformer\n",
    "from sklearn.pipeline import Pipeline\n",
    "from sklearn.impute import SimpleImputer\n",
    "from sklearn.linear_model import LogisticRegression\n",
    "from sklearn.metrics import roc_auc_score, log_loss, make_scorer, brier_score_loss\n",
    "from sklearn.preprocessing import StandardScaler\n",
    "from lightgbm import LGBMClassifier\n",
    "from joblib import dump, load\n",
    "from sklearn.calibration import calibration_curve\n",
    "from sklearn.calibration import CalibratedClassifierCV\n",
    "from sklearn.inspection import permutation_importance\n",
    "import matplotlib.pyplot as plt\n",
    "import seaborn as sns\n",
    "from scipy.stats import spearmanr, randint as sp_randint, uniform as sp_uniform\n",
    "from scipy.cluster import hierarchy"
   ]
  },
  {
   "cell_type": "code",
   "execution_count": 2,
   "metadata": {
    "id": "x05CXV7Tr0re"
   },
   "outputs": [],
   "source": [
    "seed = 42"
   ]
  },
  {
   "cell_type": "code",
   "execution_count": 3,
   "metadata": {
    "id": "BP39sKg6r5r3"
   },
   "outputs": [],
   "source": [
    "# define Mcfadden's pseduo r-squared\n",
    "def mcfadden_r2(y, y_pred):\n",
    "    ll = log_loss(y, y_pred)\n",
    "    ll_null = log_loss(y, np.full(len(y), y.mean()))\n",
    "    return 1 - (ll/ll_null)\n",
    "pseudo_r2_scorer = make_scorer(mcfadden_r2, needs_proba=True, greater_is_better=True)"
   ]
  },
  {
   "cell_type": "code",
   "execution_count": 4,
   "metadata": {
    "id": "h22pydoExiwG"
   },
   "outputs": [],
   "source": [
    "scoring = {'roc_aug': 'roc_auc', 'mcfaddens_r2': pseudo_r2_scorer}"
   ]
  },
  {
   "cell_type": "code",
   "execution_count": 5,
   "metadata": {
    "colab": {
     "base_uri": "https://localhost:8080/"
    },
    "id": "fWM-D0xeqaJ-",
    "outputId": "b816619f-e97a-4610-c2f1-aa59c0abfcd3"
   },
   "outputs": [
    {
     "name": "stderr",
     "output_type": "stream",
     "text": [
      "/var/folders/b5/p9rmdc817y36m0hgtkqmx93m0000gn/T/ipykernel_21147/2666696196.py:1: DtypeWarning: Columns (31) have mixed types. Specify dtype option on import or set low_memory=False.\n",
      "  df = pd.read_csv('Statsbomb_Shots_WO_Outliers.csv')\n"
     ]
    }
   ],
   "source": [
    "df = pd.read_csv('Statsbomb_Shots_WO_Outliers.csv')"
   ]
  },
  {
   "cell_type": "code",
   "execution_count": 6,
   "metadata": {
    "id": "QvZFqKkAzSAQ"
   },
   "outputs": [],
   "source": [
    "df.drop(columns='Unnamed: 0',inplace=True)"
   ]
  },
  {
   "cell_type": "code",
   "execution_count": 7,
   "metadata": {
    "colab": {
     "base_uri": "https://localhost:8080/",
     "height": 960
    },
    "id": "5os_dm1XzmDk",
    "outputId": "54988435-2569-45b8-b584-019114289c57"
   },
   "outputs": [
    {
     "data": {
      "text/html": [
       "<div>\n",
       "<style scoped>\n",
       "    .dataframe tbody tr th:only-of-type {\n",
       "        vertical-align: middle;\n",
       "    }\n",
       "\n",
       "    .dataframe tbody tr th {\n",
       "        vertical-align: top;\n",
       "    }\n",
       "\n",
       "    .dataframe thead th {\n",
       "        text-align: right;\n",
       "    }\n",
       "</style>\n",
       "<table border=\"1\" class=\"dataframe\">\n",
       "  <thead>\n",
       "    <tr style=\"text-align: right;\">\n",
       "      <th></th>\n",
       "      <th>match_id</th>\n",
       "      <th>id</th>\n",
       "      <th>eventSec</th>\n",
       "      <th>period</th>\n",
       "      <th>goal</th>\n",
       "      <th>team_id</th>\n",
       "      <th>team_name</th>\n",
       "      <th>player_id</th>\n",
       "      <th>shot_type_name</th>\n",
       "      <th>x</th>\n",
       "      <th>...</th>\n",
       "      <th>gk_player_id</th>\n",
       "      <th>firstName</th>\n",
       "      <th>middleName</th>\n",
       "      <th>lastName</th>\n",
       "      <th>Name</th>\n",
       "      <th>area_shot</th>\n",
       "      <th>area_goal</th>\n",
       "      <th>opps_in_n_angle</th>\n",
       "      <th>goalkeeper_x</th>\n",
       "      <th>goalkeeper_y</th>\n",
       "    </tr>\n",
       "  </thead>\n",
       "  <tbody>\n",
       "    <tr>\n",
       "      <th>0</th>\n",
       "      <td>2275050</td>\n",
       "      <td>25e512a2-6ce0-41db-8749-88d988947058</td>\n",
       "      <td>780.422</td>\n",
       "      <td>2</td>\n",
       "      <td>False</td>\n",
       "      <td>969</td>\n",
       "      <td>Birmingham City WFC</td>\n",
       "      <td>15580.0</td>\n",
       "      <td>open_play</td>\n",
       "      <td>91.158333</td>\n",
       "      <td>...</td>\n",
       "      <td>33664.0</td>\n",
       "      <td>Claudia</td>\n",
       "      <td>NaN</td>\n",
       "      <td>Walker</td>\n",
       "      <td>Claudia Walker</td>\n",
       "      <td>3836.901495</td>\n",
       "      <td>757.206131</td>\n",
       "      <td>1.0</td>\n",
       "      <td>101.975000</td>\n",
       "      <td>29.606667</td>\n",
       "    </tr>\n",
       "    <tr>\n",
       "      <th>1</th>\n",
       "      <td>2275050</td>\n",
       "      <td>3ece6827-76fa-4ae1-8c4c-ef4af1ae4c4e</td>\n",
       "      <td>950.810</td>\n",
       "      <td>2</td>\n",
       "      <td>False</td>\n",
       "      <td>969</td>\n",
       "      <td>Birmingham City WFC</td>\n",
       "      <td>31563.0</td>\n",
       "      <td>free_kick</td>\n",
       "      <td>101.333333</td>\n",
       "      <td>...</td>\n",
       "      <td>33664.0</td>\n",
       "      <td>Rachel</td>\n",
       "      <td>NaN</td>\n",
       "      <td>Williams</td>\n",
       "      <td>Rachel Williams</td>\n",
       "      <td>5272.748045</td>\n",
       "      <td>200.239061</td>\n",
       "      <td>3.0</td>\n",
       "      <td>104.450000</td>\n",
       "      <td>36.470500</td>\n",
       "    </tr>\n",
       "    <tr>\n",
       "      <th>2</th>\n",
       "      <td>2275050</td>\n",
       "      <td>dcc3c9f6-1b25-4fb4-ae1a-5dcf52d16769</td>\n",
       "      <td>2386.037</td>\n",
       "      <td>1</td>\n",
       "      <td>False</td>\n",
       "      <td>969</td>\n",
       "      <td>Birmingham City WFC</td>\n",
       "      <td>15562.0</td>\n",
       "      <td>throw_in</td>\n",
       "      <td>84.471429</td>\n",
       "      <td>...</td>\n",
       "      <td>33664.0</td>\n",
       "      <td>Lucy</td>\n",
       "      <td>NaN</td>\n",
       "      <td>Staniforth</td>\n",
       "      <td>Lucy Staniforth</td>\n",
       "      <td>5509.133803</td>\n",
       "      <td>286.591404</td>\n",
       "      <td>2.0</td>\n",
       "      <td>102.066667</td>\n",
       "      <td>31.621000</td>\n",
       "    </tr>\n",
       "    <tr>\n",
       "      <th>3</th>\n",
       "      <td>2275050</td>\n",
       "      <td>9bdbfc3d-959d-4fc4-bac2-6b5d154191e9</td>\n",
       "      <td>746.245</td>\n",
       "      <td>1</td>\n",
       "      <td>False</td>\n",
       "      <td>974</td>\n",
       "      <td>Reading WFC</td>\n",
       "      <td>26570.0</td>\n",
       "      <td>free_kick</td>\n",
       "      <td>88.328571</td>\n",
       "      <td>...</td>\n",
       "      <td>22032.0</td>\n",
       "      <td>Amalie</td>\n",
       "      <td>Vevle</td>\n",
       "      <td>Eikeland</td>\n",
       "      <td>Amalie Vevle Eikeland</td>\n",
       "      <td>3791.877712</td>\n",
       "      <td>1048.194587</td>\n",
       "      <td>1.0</td>\n",
       "      <td>103.900000</td>\n",
       "      <td>31.529500</td>\n",
       "    </tr>\n",
       "    <tr>\n",
       "      <th>4</th>\n",
       "      <td>2275050</td>\n",
       "      <td>a2068f0f-d4fd-44e3-b1a2-2497d7b47b0a</td>\n",
       "      <td>902.629</td>\n",
       "      <td>1</td>\n",
       "      <td>False</td>\n",
       "      <td>974</td>\n",
       "      <td>Reading WFC</td>\n",
       "      <td>26570.0</td>\n",
       "      <td>free_kick</td>\n",
       "      <td>93.725000</td>\n",
       "      <td>...</td>\n",
       "      <td>22032.0</td>\n",
       "      <td>Amalie</td>\n",
       "      <td>Vevle</td>\n",
       "      <td>Eikeland</td>\n",
       "      <td>Amalie Vevle Eikeland</td>\n",
       "      <td>317.530346</td>\n",
       "      <td>1126.366907</td>\n",
       "      <td>1.0</td>\n",
       "      <td>104.175000</td>\n",
       "      <td>35.830000</td>\n",
       "    </tr>\n",
       "    <tr>\n",
       "      <th>5</th>\n",
       "      <td>2275050</td>\n",
       "      <td>8439b96b-fc49-4511-9628-059c2c996a83</td>\n",
       "      <td>2310.041</td>\n",
       "      <td>1</td>\n",
       "      <td>True</td>\n",
       "      <td>974</td>\n",
       "      <td>Reading WFC</td>\n",
       "      <td>26570.0</td>\n",
       "      <td>free_kick</td>\n",
       "      <td>85.671429</td>\n",
       "      <td>...</td>\n",
       "      <td>22032.0</td>\n",
       "      <td>Amalie</td>\n",
       "      <td>Vevle</td>\n",
       "      <td>Eikeland</td>\n",
       "      <td>Amalie Vevle Eikeland</td>\n",
       "      <td>3724.209813</td>\n",
       "      <td>1794.567066</td>\n",
       "      <td>0.0</td>\n",
       "      <td>99.408333</td>\n",
       "      <td>31.529500</td>\n",
       "    </tr>\n",
       "    <tr>\n",
       "      <th>6</th>\n",
       "      <td>2275050</td>\n",
       "      <td>db9cc459-2dbe-42b8-8c75-e50d1b49bdc5</td>\n",
       "      <td>1468.335</td>\n",
       "      <td>2</td>\n",
       "      <td>False</td>\n",
       "      <td>974</td>\n",
       "      <td>Reading WFC</td>\n",
       "      <td>26570.0</td>\n",
       "      <td>open_play</td>\n",
       "      <td>95.191667</td>\n",
       "      <td>...</td>\n",
       "      <td>22032.0</td>\n",
       "      <td>Amalie</td>\n",
       "      <td>Vevle</td>\n",
       "      <td>Eikeland</td>\n",
       "      <td>Amalie Vevle Eikeland</td>\n",
       "      <td>3969.499272</td>\n",
       "      <td>1197.269435</td>\n",
       "      <td>0.0</td>\n",
       "      <td>102.341667</td>\n",
       "      <td>37.843333</td>\n",
       "    </tr>\n",
       "    <tr>\n",
       "      <th>7</th>\n",
       "      <td>2275050</td>\n",
       "      <td>537f7379-0bf7-4bd4-be7f-7cc25c43de98</td>\n",
       "      <td>2626.523</td>\n",
       "      <td>2</td>\n",
       "      <td>False</td>\n",
       "      <td>974</td>\n",
       "      <td>Reading WFC</td>\n",
       "      <td>26570.0</td>\n",
       "      <td>open_play</td>\n",
       "      <td>94.733333</td>\n",
       "      <td>...</td>\n",
       "      <td>22032.0</td>\n",
       "      <td>Amalie</td>\n",
       "      <td>Vevle</td>\n",
       "      <td>Eikeland</td>\n",
       "      <td>Amalie Vevle Eikeland</td>\n",
       "      <td>6900.467557</td>\n",
       "      <td>613.895436</td>\n",
       "      <td>2.0</td>\n",
       "      <td>104.450000</td>\n",
       "      <td>32.444500</td>\n",
       "    </tr>\n",
       "    <tr>\n",
       "      <th>8</th>\n",
       "      <td>2275050</td>\n",
       "      <td>ce34292d-68c7-40e9-a949-31c5fc7f2ec7</td>\n",
       "      <td>781.452</td>\n",
       "      <td>1</td>\n",
       "      <td>False</td>\n",
       "      <td>974</td>\n",
       "      <td>Reading WFC</td>\n",
       "      <td>15723.0</td>\n",
       "      <td>open_play</td>\n",
       "      <td>84.471429</td>\n",
       "      <td>...</td>\n",
       "      <td>22032.0</td>\n",
       "      <td>Brooke</td>\n",
       "      <td>NaN</td>\n",
       "      <td>Chaplen</td>\n",
       "      <td>Brooke Chaplen</td>\n",
       "      <td>1896.902245</td>\n",
       "      <td>1086.456635</td>\n",
       "      <td>1.0</td>\n",
       "      <td>104.450000</td>\n",
       "      <td>36.653500</td>\n",
       "    </tr>\n",
       "    <tr>\n",
       "      <th>9</th>\n",
       "      <td>2275050</td>\n",
       "      <td>9c0ec486-fade-48fe-b57d-28a6a5e175ae</td>\n",
       "      <td>2748.546</td>\n",
       "      <td>1</td>\n",
       "      <td>False</td>\n",
       "      <td>974</td>\n",
       "      <td>Reading WFC</td>\n",
       "      <td>15723.0</td>\n",
       "      <td>open_play</td>\n",
       "      <td>93.541667</td>\n",
       "      <td>...</td>\n",
       "      <td>22032.0</td>\n",
       "      <td>Brooke</td>\n",
       "      <td>NaN</td>\n",
       "      <td>Chaplen</td>\n",
       "      <td>Brooke Chaplen</td>\n",
       "      <td>4442.202604</td>\n",
       "      <td>1003.381131</td>\n",
       "      <td>0.0</td>\n",
       "      <td>102.250000</td>\n",
       "      <td>31.255000</td>\n",
       "    </tr>\n",
       "  </tbody>\n",
       "</table>\n",
       "<p>10 rows × 43 columns</p>\n",
       "</div>"
      ],
      "text/plain": [
       "   match_id                                    id  eventSec  period   goal  \\\n",
       "0   2275050  25e512a2-6ce0-41db-8749-88d988947058   780.422       2  False   \n",
       "1   2275050  3ece6827-76fa-4ae1-8c4c-ef4af1ae4c4e   950.810       2  False   \n",
       "2   2275050  dcc3c9f6-1b25-4fb4-ae1a-5dcf52d16769  2386.037       1  False   \n",
       "3   2275050  9bdbfc3d-959d-4fc4-bac2-6b5d154191e9   746.245       1  False   \n",
       "4   2275050  a2068f0f-d4fd-44e3-b1a2-2497d7b47b0a   902.629       1  False   \n",
       "5   2275050  8439b96b-fc49-4511-9628-059c2c996a83  2310.041       1   True   \n",
       "6   2275050  db9cc459-2dbe-42b8-8c75-e50d1b49bdc5  1468.335       2  False   \n",
       "7   2275050  537f7379-0bf7-4bd4-be7f-7cc25c43de98  2626.523       2  False   \n",
       "8   2275050  ce34292d-68c7-40e9-a949-31c5fc7f2ec7   781.452       1  False   \n",
       "9   2275050  9c0ec486-fade-48fe-b57d-28a6a5e175ae  2748.546       1  False   \n",
       "\n",
       "   team_id            team_name  player_id shot_type_name           x  ...  \\\n",
       "0      969  Birmingham City WFC    15580.0      open_play   91.158333  ...   \n",
       "1      969  Birmingham City WFC    31563.0      free_kick  101.333333  ...   \n",
       "2      969  Birmingham City WFC    15562.0       throw_in   84.471429  ...   \n",
       "3      974          Reading WFC    26570.0      free_kick   88.328571  ...   \n",
       "4      974          Reading WFC    26570.0      free_kick   93.725000  ...   \n",
       "5      974          Reading WFC    26570.0      free_kick   85.671429  ...   \n",
       "6      974          Reading WFC    26570.0      open_play   95.191667  ...   \n",
       "7      974          Reading WFC    26570.0      open_play   94.733333  ...   \n",
       "8      974          Reading WFC    15723.0      open_play   84.471429  ...   \n",
       "9      974          Reading WFC    15723.0      open_play   93.541667  ...   \n",
       "\n",
       "   gk_player_id  firstName  middleName    lastName                   Name  \\\n",
       "0       33664.0    Claudia         NaN      Walker         Claudia Walker   \n",
       "1       33664.0     Rachel         NaN    Williams        Rachel Williams   \n",
       "2       33664.0       Lucy         NaN  Staniforth        Lucy Staniforth   \n",
       "3       22032.0     Amalie       Vevle    Eikeland  Amalie Vevle Eikeland   \n",
       "4       22032.0     Amalie       Vevle    Eikeland  Amalie Vevle Eikeland   \n",
       "5       22032.0     Amalie       Vevle    Eikeland  Amalie Vevle Eikeland   \n",
       "6       22032.0     Amalie       Vevle    Eikeland  Amalie Vevle Eikeland   \n",
       "7       22032.0     Amalie       Vevle    Eikeland  Amalie Vevle Eikeland   \n",
       "8       22032.0     Brooke         NaN     Chaplen         Brooke Chaplen   \n",
       "9       22032.0     Brooke         NaN     Chaplen         Brooke Chaplen   \n",
       "\n",
       "     area_shot    area_goal  opps_in_n_angle goalkeeper_x goalkeeper_y  \n",
       "0  3836.901495   757.206131              1.0   101.975000    29.606667  \n",
       "1  5272.748045   200.239061              3.0   104.450000    36.470500  \n",
       "2  5509.133803   286.591404              2.0   102.066667    31.621000  \n",
       "3  3791.877712  1048.194587              1.0   103.900000    31.529500  \n",
       "4   317.530346  1126.366907              1.0   104.175000    35.830000  \n",
       "5  3724.209813  1794.567066              0.0    99.408333    31.529500  \n",
       "6  3969.499272  1197.269435              0.0   102.341667    37.843333  \n",
       "7  6900.467557   613.895436              2.0   104.450000    32.444500  \n",
       "8  1896.902245  1086.456635              1.0   104.450000    36.653500  \n",
       "9  4442.202604  1003.381131              0.0   102.250000    31.255000  \n",
       "\n",
       "[10 rows x 43 columns]"
      ]
     },
     "execution_count": 7,
     "metadata": {},
     "output_type": "execute_result"
    }
   ],
   "source": [
    "df.head(10)"
   ]
  },
  {
   "cell_type": "code",
   "execution_count": 8,
   "metadata": {
    "id": "uw2Fret_TlHR"
   },
   "outputs": [],
   "source": [
    "df['strong_foot'] = (((df.strong_foot.isin(['left', 'both'])) &(df.body_part_name == 'Left Foot')) |\n",
    "                                    ((df.strong_foot.isin(['right', 'both'])) & (df.body_part_name == 'Right Foot')))"
   ]
  },
  {
   "cell_type": "code",
   "execution_count": 9,
   "metadata": {
    "colab": {
     "base_uri": "https://localhost:8080/"
    },
    "id": "ioc8Loq507VV",
    "outputId": "844dafd1-20e0-46e9-fb11-7f114a95db75"
   },
   "outputs": [
    {
     "name": "stdout",
     "output_type": "stream",
     "text": [
      "<class 'pandas.core.frame.DataFrame'>\n",
      "RangeIndex: 32680 entries, 0 to 32679\n",
      "Data columns (total 43 columns):\n",
      " #   Column                              Non-Null Count  Dtype  \n",
      "---  ------                              --------------  -----  \n",
      " 0   match_id                            32680 non-null  int64  \n",
      " 1   id                                  32680 non-null  object \n",
      " 2   eventSec                            32680 non-null  float64\n",
      " 3   period                              32680 non-null  int64  \n",
      " 4   goal                                32680 non-null  bool   \n",
      " 5   team_id                             32680 non-null  int64  \n",
      " 6   team_name                           32680 non-null  object \n",
      " 7   player_id                           32680 non-null  float64\n",
      " 8   shot_type_name                      32680 non-null  object \n",
      " 9   x                                   32680 non-null  float64\n",
      " 10  y                                   32680 non-null  float64\n",
      " 11  counter_attack                      32680 non-null  bool   \n",
      " 12  fast_break                          32680 non-null  bool   \n",
      " 13  strong_foot                         32680 non-null  bool   \n",
      " 14  body_part_name                      32680 non-null  object \n",
      " 15  assist_type                         32680 non-null  object \n",
      " 16  pass_end_x                          23123 non-null  float64\n",
      " 17  pass_end_y                          23123 non-null  float64\n",
      " 18  pass_switch                         23123 non-null  object \n",
      " 19  pass_cross                          23123 non-null  object \n",
      " 20  pass_cut_back                       23123 non-null  object \n",
      " 21  pass_height_name                    23123 non-null  object \n",
      " 22  pass_technique_name                 23123 non-null  object \n",
      " 23  carry_length                        32680 non-null  float64\n",
      " 24  visible_angle                       32680 non-null  float64\n",
      " 25  middle_angle                        32680 non-null  float64\n",
      " 26  distance_to_goal                    32680 non-null  float64\n",
      " 27  distance_visible_angle_interaction  32680 non-null  float64\n",
      " 28  log_distance                        32680 non-null  float64\n",
      " 29  competition_gender                  32680 non-null  object \n",
      " 30  shot_one_on_one                     32601 non-null  object \n",
      " 31  shot_open_goal                      32598 non-null  float64\n",
      " 32  under_pressure                      32680 non-null  bool   \n",
      " 33  gk_player_id                        32680 non-null  float64\n",
      " 34  firstName                           32680 non-null  object \n",
      " 35  middleName                          17198 non-null  object \n",
      " 36  lastName                            32680 non-null  object \n",
      " 37  Name                                32680 non-null  object \n",
      " 38  area_shot                           32680 non-null  float64\n",
      " 39  area_goal                           32680 non-null  float64\n",
      " 40  opps_in_n_angle                     32679 non-null  float64\n",
      " 41  goalkeeper_x                        32619 non-null  float64\n",
      " 42  goalkeeper_y                        32619 non-null  float64\n",
      "dtypes: bool(5), float64(19), int64(3), object(16)\n",
      "memory usage: 9.6+ MB\n"
     ]
    }
   ],
   "source": [
    "df.info()"
   ]
  },
  {
   "cell_type": "code",
   "execution_count": 10,
   "metadata": {
    "id": "s33sTgHA0H9T"
   },
   "outputs": [],
   "source": [
    "df.drop(['match_id', 'id', 'eventSec','period', 'player_id', 'competition_gender', 'team_name',\n",
    "         'firstName', 'middleName', 'lastName', 'Name','team_id'], axis=1, inplace=True)\n",
    "X = df.drop('goal', axis=1)\n",
    "y = df.goal"
   ]
  },
  {
   "cell_type": "code",
   "execution_count": 11,
   "metadata": {
    "id": "oNeEJo_M25QI"
   },
   "outputs": [],
   "source": [
    "X_train, X_test, y_train, y_test = train_test_split(X, y, train_size=0.8, random_state=seed, stratify=y)\n"
   ]
  },
  {
   "cell_type": "code",
   "execution_count": 12,
   "metadata": {
    "colab": {
     "base_uri": "https://localhost:8080/"
    },
    "id": "JeOWZUSQ3J-p",
    "outputId": "0f8e9ebe-c72a-4eae-9dad-ca207e3dc3db"
   },
   "outputs": [
    {
     "name": "stdout",
     "output_type": "stream",
     "text": [
      "Shots train 26144 ;Number goals 2921 ;Goals %:  11.2\n",
      "Shots test 6536 ;Number goals 730 ;Goals %:  11.2\n"
     ]
    }
   ],
   "source": [
    "print('Shots train', len(y_train), ';Number goals', y_train.sum(),\n",
    "      ';Goals %: ', round(y_train.mean()*100, 1))\n",
    "print('Shots test', len(y_test), ';Number goals', y_test.sum(),\n",
    "      ';Goals %: ', round(y_test.mean()*100, 1))"
   ]
  },
  {
   "cell_type": "markdown",
   "metadata": {
    "id": "u06l-bprdLCH"
   },
   "source": [
    "**LOGISTIC REGRESSION** \n",
    "                          "
   ]
  },
  {
   "cell_type": "code",
   "execution_count": 13,
   "metadata": {
    "id": "XAQKddD13Zmv"
   },
   "outputs": [],
   "source": [
    "logisticReg_drop_cols = ['x', 'y',  # logistic regression does not deal well with dependent features\n",
    "                      # The model will use the distance/ angle features capture these location features instead\n",
    "                      # lots of missings for the below features as they come from StatsBomb data only.\n",
    "                      # It's not fair to impute these as they are not missing at random\n",
    "                      # while logistic regression does not allow missings so I removed them\n",
    "                      'pass_end_y', 'pass_end_x',  # <- note these were in Wyscout, but often were just the shot location\n",
    "                      'gk_player_id',\n",
    "                      'goalkeeper_x', 'goalkeeper_y', 'carry_length', 'shot_one_on_one', 'shot_open_goal',\n",
    "                      'under_pressure', 'area_shot', 'area_goal', 'opps_in_n_angle']\n",
    "X_train_logistic = X_train.drop(logisticReg_drop_cols, axis=1).copy()\n",
    "X_test_logistic = X_test.drop(logisticReg_drop_cols, axis=1).copy()"
   ]
  },
  {
   "cell_type": "code",
   "execution_count": 14,
   "metadata": {
    "colab": {
     "base_uri": "https://localhost:8080/"
    },
    "id": "thi0u_2E43w0",
    "outputId": "8ce2a84b-5b89-4e8e-904f-1efb9fc411d6"
   },
   "outputs": [
    {
     "name": "stdout",
     "output_type": "stream",
     "text": [
      "<class 'pandas.core.frame.DataFrame'>\n",
      "Int64Index: 26144 entries, 8111 to 2939\n",
      "Data columns (total 16 columns):\n",
      " #   Column                              Non-Null Count  Dtype  \n",
      "---  ------                              --------------  -----  \n",
      " 0   shot_type_name                      26144 non-null  object \n",
      " 1   counter_attack                      26144 non-null  bool   \n",
      " 2   fast_break                          26144 non-null  bool   \n",
      " 3   strong_foot                         26144 non-null  bool   \n",
      " 4   body_part_name                      26144 non-null  object \n",
      " 5   assist_type                         26144 non-null  object \n",
      " 6   pass_switch                         18493 non-null  object \n",
      " 7   pass_cross                          18493 non-null  object \n",
      " 8   pass_cut_back                       18493 non-null  object \n",
      " 9   pass_height_name                    18493 non-null  object \n",
      " 10  pass_technique_name                 18493 non-null  object \n",
      " 11  visible_angle                       26144 non-null  float64\n",
      " 12  middle_angle                        26144 non-null  float64\n",
      " 13  distance_to_goal                    26144 non-null  float64\n",
      " 14  distance_visible_angle_interaction  26144 non-null  float64\n",
      " 15  log_distance                        26144 non-null  float64\n",
      "dtypes: bool(3), float64(5), object(8)\n",
      "memory usage: 2.9+ MB\n"
     ]
    }
   ],
   "source": [
    "X_train_logistic.info()"
   ]
  },
  {
   "cell_type": "code",
   "execution_count": 15,
   "metadata": {
    "id": "ZzyiTzo45GoZ"
   },
   "outputs": [],
   "source": [
    "def split(X, y):\n",
    "    mask = X.assist_type == 'pass'\n",
    "    X_pass = X[mask].drop('assist_type', axis=1).copy()\n",
    "    y_pass = y[mask]\n",
    "    X_other = X[~mask].dropna(axis=1, how='all').copy()\n",
    "    y_other = y[~mask]\n",
    "    return X_pass, y_pass, X_other, y_other"
   ]
  },
  {
   "cell_type": "code",
   "execution_count": 16,
   "metadata": {
    "id": "PPQw6Zn7HDuK"
   },
   "outputs": [],
   "source": [
    "X_train_pass, y_train_pass, X_train_other, y_train_other = split(X_train_logistic, y_train)\n",
    "X_test_pass, y_test_pass, X_test_other, y_test_other = split(X_test_logistic, y_test)"
   ]
  },
  {
   "cell_type": "code",
   "execution_count": 17,
   "metadata": {
    "id": "nMrUMlLkHh3M"
   },
   "outputs": [],
   "source": [
    "cols = ['shot_type_name', 'body_part_name', 'pass_technique_name', 'pass_height_name']\n",
    "cats = [['open_play', 'free_kick', 'corner', 'throw_in'],\n",
    "        ['Right Foot', 'Left Foot', 'Other'],\n",
    "        ['other', 'Through Ball', 'Straight', 'Inswinging', 'Outswinging'],\n",
    "        ['Ground/ Low Pass', 'High Pass']]\n",
    "pass_one_hot = ColumnTransformer([('encoder', OneHotEncoder(drop='first', categories=cats), cols)], remainder='passthrough')\n",
    "pipe_pass = Pipeline([('one_hot', pass_one_hot),\n",
    "                      ('impute', SimpleImputer()),\n",
    "                      ('scale', StandardScaler()),\n",
    "                      ('lr', LogisticRegression(random_state=seed))])"
   ]
  },
  {
   "cell_type": "code",
   "execution_count": 18,
   "metadata": {
    "id": "1puBgTEzJav6"
   },
   "outputs": [],
   "source": [
    "original_cols_remain = [col for col in X_train_pass.columns if col not in cols]\n",
    "new_cols_pass = [item for sublist in cats for i, item in enumerate(sublist) if (i>0)]\n",
    "new_cols_pass.extend(original_cols_remain)"
   ]
  },
  {
   "cell_type": "code",
   "execution_count": 19,
   "metadata": {
    "colab": {
     "base_uri": "https://localhost:8080/"
    },
    "id": "uuMdnCCHJiUL",
    "outputId": "6d13fd31-7bf8-4510-ea88-eacc8c5e089d"
   },
   "outputs": [
    {
     "name": "stdout",
     "output_type": "stream",
     "text": [
      "['free_kick', 'corner', 'throw_in', 'Left Foot', 'Other', 'Through Ball', 'Straight', 'Inswinging', 'Outswinging', 'High Pass', 'counter_attack', 'fast_break', 'strong_foot', 'pass_switch', 'pass_cross', 'pass_cut_back', 'visible_angle', 'middle_angle', 'distance_to_goal', 'distance_visible_angle_interaction', 'log_distance']\n"
     ]
    }
   ],
   "source": [
    "print(new_cols_pass)"
   ]
  },
  {
   "cell_type": "code",
   "execution_count": 20,
   "metadata": {
    "id": "jRZ-sWUfJyvU"
   },
   "outputs": [],
   "source": [
    "# setting direct to recovery so does not not encoded twice ( also covered by shot_type_name == 'direct_set_piece')\n",
    "X_train_other.loc[X_train_other.assist_type == 'direct', 'assist_type'] = 'recovery'\n",
    "X_test_other.loc[X_test_other.assist_type == 'direct', 'assist_type'] = 'recovery'\n",
    "\n",
    "cols = ['shot_type_name', 'body_part_name', 'assist_type']\n",
    "cats = [['open_play', 'free_kick', 'corner', 'throw_in', 'direct_set_piece'],\n",
    "        ['Right Foot', 'Left Foot', 'Other'],\n",
    "        ['recovery', 'clearance', 'rebound']]\n",
    "other_one_hot = ColumnTransformer([('encoder', OneHotEncoder(drop='first', categories=cats), cols)], remainder='passthrough')\n",
    "pipe_other = Pipeline([('one_hot', other_one_hot),\n",
    "                       ('impute', SimpleImputer()),\n",
    "                       ('scale', StandardScaler()),\n",
    "                       ('lr', LogisticRegression(random_state=seed))])"
   ]
  },
  {
   "cell_type": "code",
   "execution_count": 21,
   "metadata": {
    "id": "yv6WqDbCJ_YD"
   },
   "outputs": [],
   "source": [
    "original_cols_remain = [col for col in X_train_other.columns if col not in cols]\n",
    "new_cols_other = [item for sublist in cats for i, item in enumerate(sublist) if (i>0)]\n",
    "new_cols_other.extend(original_cols_remain)"
   ]
  },
  {
   "cell_type": "code",
   "execution_count": 22,
   "metadata": {
    "colab": {
     "base_uri": "https://localhost:8080/"
    },
    "id": "OUXB1bn5KK4y",
    "outputId": "716f0346-7007-4a68-f3bc-c89ea1ab934d"
   },
   "outputs": [
    {
     "name": "stdout",
     "output_type": "stream",
     "text": [
      "['free_kick', 'corner', 'throw_in', 'direct_set_piece', 'Left Foot', 'Other', 'clearance', 'rebound', 'counter_attack', 'fast_break', 'strong_foot', 'visible_angle', 'middle_angle', 'distance_to_goal', 'distance_visible_angle_interaction', 'log_distance']\n"
     ]
    }
   ],
   "source": [
    "print(new_cols_other)"
   ]
  },
  {
   "cell_type": "code",
   "execution_count": 23,
   "metadata": {
    "id": "A522TAJjKOIO"
   },
   "outputs": [],
   "source": [
    "param_grid = {'lr__C': np.logspace(-3, 0.1, 100)}"
   ]
  },
  {
   "cell_type": "code",
   "execution_count": 24,
   "metadata": {
    "colab": {
     "base_uri": "https://localhost:8080/"
    },
    "id": "JzlW0txpKzVi",
    "outputId": "55cf1011-dbd5-4286-bc2c-bef7f74107f2"
   },
   "outputs": [
    {
     "name": "stdout",
     "output_type": "stream",
     "text": [
      "C: 0.049080512716538564\n"
     ]
    }
   ],
   "source": [
    "clf_pass = GridSearchCV(estimator=pipe_pass, param_grid=param_grid, scoring='neg_log_loss', n_jobs=-1)\n",
    "clf_pass.fit(X_train_pass, y_train_pass)\n",
    "print('C:', clf_pass.best_estimator_.named_steps.lr.C)"
   ]
  },
  {
   "cell_type": "code",
   "execution_count": 25,
   "metadata": {
    "colab": {
     "base_uri": "https://localhost:8080/"
    },
    "id": "3r3mPVZXK7q2",
    "outputId": "e7fcf678-94e3-46b8-dd99-b702ecb3be87"
   },
   "outputs": [
    {
     "name": "stdout",
     "output_type": "stream",
     "text": [
      "C: 0.1253082884091345\n"
     ]
    }
   ],
   "source": [
    "clf_other = GridSearchCV(estimator=pipe_other, param_grid=param_grid, scoring='neg_log_loss', n_jobs=-1)\n",
    "clf_other.fit(X_train_other, y_train_other)\n",
    "print('C:', clf_other.best_estimator_.named_steps.lr.C)"
   ]
  },
  {
   "cell_type": "code",
   "execution_count": null,
   "metadata": {
    "colab": {
     "base_uri": "https://localhost:8080/"
    },
    "id": "fWyuBSuLLTe4",
    "outputId": "c0d84301-1b2d-4ea9-8d9a-1323bc0d5fe5"
   },
   "outputs": [
    {
     "name": "stderr",
     "output_type": "stream",
     "text": [
      "/Users/prabalsingh/opt/anaconda3/lib/python3.9/site-packages/sklearn/utils/extmath.py:1031: RuntimeWarning: invalid value encountered in true_divide\n",
      "  * (last_sum / last_over_new_count - new_sum) ** 2\n",
      "/Users/prabalsingh/opt/anaconda3/lib/python3.9/site-packages/sklearn/utils/extmath.py:1031: RuntimeWarning: invalid value encountered in true_divide\n",
      "  * (last_sum / last_over_new_count - new_sum) ** 2\n"
     ]
    }
   ],
   "source": [
    "nested_score_pass = cross_validate(clf_pass, X=X_train_pass, y=y_train_pass, scoring=scoring, n_jobs=-1)\n",
    "print('ROC AUC for shots assisted by passes:', nested_score_pass['test_roc_aug'].mean())\n",
    "print(\"McFadden's Pseudo R-squared shots assisted by passes:\", nested_score_pass['test_mcfaddens_r2'].mean())"
   ]
  },
  {
   "cell_type": "code",
   "execution_count": null,
   "metadata": {
    "colab": {
     "base_uri": "https://localhost:8080/"
    },
    "id": "gnvqgr7FVFni",
    "outputId": "70ecfa08-ba87-450e-ab32-76fd2d5aa1e0"
   },
   "outputs": [],
   "source": [
    "nested_score_other = cross_validate(clf_other, X=X_train_other, y=y_train_other, scoring=scoring, n_jobs=-1)\n",
    "print('ROC AUC for other model:', nested_score_other['test_roc_aug'].mean())\n",
    "print(\"McFadden's Pseudo R-squared for other model:\", nested_score_other['test_mcfaddens_r2'].mean())"
   ]
  },
  {
   "cell_type": "markdown",
   "metadata": {
    "id": "aJOK0WOjd2cK"
   },
   "source": [
    "**LIGHT GBM**"
   ]
  },
  {
   "cell_type": "code",
   "execution_count": 30,
   "metadata": {
    "id": "b2cqpWvpgsg5"
   },
   "outputs": [],
   "source": [
    "from imblearn.over_sampling import SMOTENC"
   ]
  },
  {
   "cell_type": "code",
   "execution_count": 31,
   "metadata": {
    "colab": {
     "base_uri": "https://localhost:8080/"
    },
    "id": "7nbWMiASi8Jr",
    "outputId": "3f1a9e48-a59a-42df-b278-5c6378a6396f"
   },
   "outputs": [
    {
     "name": "stdout",
     "output_type": "stream",
     "text": [
      "<class 'pandas.core.frame.DataFrame'>\n",
      "Int64Index: 26144 entries, 8111 to 2939\n",
      "Data columns (total 30 columns):\n",
      " #   Column                              Non-Null Count  Dtype  \n",
      "---  ------                              --------------  -----  \n",
      " 0   shot_type_name                      26144 non-null  object \n",
      " 1   x                                   26144 non-null  float64\n",
      " 2   y                                   26144 non-null  float64\n",
      " 3   counter_attack                      26144 non-null  bool   \n",
      " 4   fast_break                          26144 non-null  bool   \n",
      " 5   strong_foot                         26144 non-null  bool   \n",
      " 6   body_part_name                      26144 non-null  object \n",
      " 7   assist_type                         26144 non-null  object \n",
      " 8   pass_end_x                          18493 non-null  float64\n",
      " 9   pass_end_y                          18493 non-null  float64\n",
      " 10  pass_switch                         18493 non-null  object \n",
      " 11  pass_cross                          18493 non-null  object \n",
      " 12  pass_cut_back                       18493 non-null  object \n",
      " 13  pass_height_name                    18493 non-null  object \n",
      " 14  pass_technique_name                 18493 non-null  object \n",
      " 15  carry_length                        26144 non-null  float64\n",
      " 16  visible_angle                       26144 non-null  float64\n",
      " 17  middle_angle                        26144 non-null  float64\n",
      " 18  distance_to_goal                    26144 non-null  float64\n",
      " 19  distance_visible_angle_interaction  26144 non-null  float64\n",
      " 20  log_distance                        26144 non-null  float64\n",
      " 21  shot_one_on_one                     26077 non-null  object \n",
      " 22  shot_open_goal                      26074 non-null  float64\n",
      " 23  under_pressure                      26144 non-null  bool   \n",
      " 24  gk_player_id                        26144 non-null  float64\n",
      " 25  area_shot                           26144 non-null  float64\n",
      " 26  area_goal                           26144 non-null  float64\n",
      " 27  opps_in_n_angle                     26143 non-null  float64\n",
      " 28  goalkeeper_x                        26095 non-null  float64\n",
      " 29  goalkeeper_y                        26095 non-null  float64\n",
      "dtypes: bool(4), float64(17), object(9)\n",
      "memory usage: 5.5+ MB\n"
     ]
    }
   ],
   "source": [
    "X_train.info()"
   ]
  },
  {
   "cell_type": "code",
   "execution_count": 32,
   "metadata": {
    "colab": {
     "base_uri": "https://localhost:8080/"
    },
    "id": "QVSC3BSGi-VJ",
    "outputId": "f2f6f720-bf88-42db-e942-4000ed574971"
   },
   "outputs": [
    {
     "name": "stdout",
     "output_type": "stream",
     "text": [
      "<class 'pandas.core.series.Series'>\n",
      "Int64Index: 26144 entries, 8111 to 2939\n",
      "Series name: goal\n",
      "Non-Null Count  Dtype\n",
      "--------------  -----\n",
      "26144 non-null  bool \n",
      "dtypes: bool(1)\n",
      "memory usage: 229.8 KB\n"
     ]
    }
   ],
   "source": [
    "y_train.info()"
   ]
  },
  {
   "cell_type": "code",
   "execution_count": 33,
   "metadata": {
    "id": "MAVEqFcPnzj2"
   },
   "outputs": [],
   "source": [
    "columns_with_missing = ['pass_end_x', 'pass_end_y', 'pass_switch', 'pass_cross', 'pass_cut_back', \n",
    "                        'pass_height_name', 'pass_technique_name', 'shot_one_on_one', 'shot_open_goal', \n",
    "                        'opps_in_n_angle', 'goalkeeper_x', 'goalkeeper_y']\n",
    "\n",
    "# create a SimpleImputer object, you can specify the strategy for imputing missing values\n",
    "# here we use \"most_frequent\" strategy to replace missing values with the most frequent value in the column\n",
    "imputer = SimpleImputer(strategy='most_frequent')\n",
    "\n",
    "# fit the imputer to your DataFrame\n",
    "imputer.fit(X_train[columns_with_missing])\n",
    "\n",
    "# transform the DataFrame by replacing missing values with the imputed values\n",
    "X_train[columns_with_missing] = imputer.transform(X_train[columns_with_missing])\n"
   ]
  },
  {
   "cell_type": "code",
   "execution_count": null,
   "metadata": {
    "id": "m3KyjPerkWB-"
   },
   "outputs": [],
   "source": [
    "smote_nc = SMOTENC(categorical_features=[0, 3, 4, 5, 6, 7, 10, 11, 12, 13, 14, 19, 21, 24, 23], \n",
    "                   random_state=42, sampling_strategy='minority',k_neighbors=10)\n",
    "X_train_resampled, y_train_resampled = smote_nc.fit_resample(X_train, y_train)\n"
   ]
  },
  {
   "cell_type": "code",
   "execution_count": null,
   "metadata": {
    "id": "UV1WEK3lmXEL"
   },
   "outputs": [],
   "source": [
    "X_train"
   ]
  },
  {
   "cell_type": "code",
   "execution_count": null,
   "metadata": {
    "id": "FdJnhRQKoyg0"
   },
   "outputs": [],
   "source": [
    "categorical_features = [0, 3, 4, 5, 6, 7, 10, 11, 12, 13, 14, 19, 21, 24, 23]\n",
    "bool_features = [3, 4, 5, 19, 24]\n",
    "print(categorical_features.extend(bool_features))"
   ]
  },
  {
   "cell_type": "code",
   "execution_count": null,
   "metadata": {
    "id": "A4ZnDY1RpYnE"
   },
   "outputs": [],
   "source": [
    "X_train"
   ]
  },
  {
   "cell_type": "code",
   "execution_count": null,
   "metadata": {
    "id": "bW_wKTY3qMaj"
   },
   "outputs": [],
   "source": []
  }
 ],
 "metadata": {
  "colab": {
   "gpuType": "T4",
   "provenance": []
  },
  "gpuClass": "standard",
  "kernelspec": {
   "display_name": "Python 3 (ipykernel)",
   "language": "python",
   "name": "python3"
  },
  "language_info": {
   "codemirror_mode": {
    "name": "ipython",
    "version": 3
   },
   "file_extension": ".py",
   "mimetype": "text/x-python",
   "name": "python",
   "nbconvert_exporter": "python",
   "pygments_lexer": "ipython3",
   "version": "3.9.13"
  }
 },
 "nbformat": 4,
 "nbformat_minor": 1
}
